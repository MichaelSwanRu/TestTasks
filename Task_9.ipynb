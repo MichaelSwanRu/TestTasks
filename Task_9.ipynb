{
 "cells": [
  {
   "cell_type": "code",
   "execution_count": null,
   "metadata": {},
   "outputs": [],
   "source": []
  },
  {
   "cell_type": "raw",
   "metadata": {},
   "source": [
    "Дана выгрузка регистрации 2 298 абонентов мобильнои связи на\n",
    "базовых станциях в города в течение одного месяца. \n",
    "Формат данных следующий:\n",
    "lac      = Код зоны мобильного оператора\n",
    "cid      = Идентификатор соты\n",
    "ts       = UNIX-время — способ кодирования времени. Число секунд с 01.01.1970.\n",
    "fulldate = Дата\n",
    "hash_id  = Идентификатор абонента мобильной связи\n",
    "\n",
    "Выборка логически разделена на две части:\n",
    "1) с 1 по 14 число месяца;\n",
    "2) c 16 по 30 число месяца.\n",
    "В каждои части используется своя система присвоения идентификаторов абонентам, что\n",
    "приводит к тому, что один и тот же абонент в разных частях выборки имеет разные\n",
    "идентификаторы: с 1 по 14 число — один, с 16 по 30 число — другои.\n",
    "\n",
    "Ваша задача:\n",
    "разработать алгоритм, которыи будет устанавливать уникальное соответствие между\n",
    "идентификаторами из первои и второи части выборки. Ожидаемый результат — таблица\n",
    "соответствии вида id1 — id2 в формате *.csv, где id1 — идентификатор из первои части\n",
    "выборки, id2 — идентификатор из второи части выборки. В помощь вам предоставляется\n",
    "эталон из 491 пары id1 и id2. Вам необходимо определить оставшиеся 1 000+\n",
    "соответствии.\n",
    "\n",
    "Данные вы сможете скачать по ссылке:\n",
    "https://www.dropbox.com/s/634djsauncy1uek/1F-test.zip?dl=0"
   ]
  },
  {
   "cell_type": "code",
   "execution_count": 1,
   "metadata": {},
   "outputs": [],
   "source": [
    "import numpy as np\n",
    "import pandas as pd\n",
    "from tqdm import tqdm\n",
    "import os\n",
    "import datetime\n",
    "\n",
    "path = '/Volumes/Data/ML/onefactor/'\n",
    "os.chdir(path)\n",
    "\n",
    "tq = True"
   ]
  },
  {
   "cell_type": "code",
   "execution_count": 2,
   "metadata": {},
   "outputs": [],
   "source": [
    "class SOLUTION:\n",
    "\n",
    "    def __init__(self):\n",
    "        self.value1 = None\n",
    "        self.value2 = None\n",
    "        \n",
    "    def get_value(self, df0):\n",
    "        self.value1 = np.array([x for x in tqdm(df0['hash_id'])])\n",
    "        self.value2 = np.array([x for x in tqdm(df0['lacid'])])\n",
    "        return self.value1, self.value2\n",
    "        \n",
    "    def fit(self, X):\n",
    "        X['ts2'] = [datetime.datetime.fromtimestamp(x) for x in tqdm(X['ts'])]\n",
    "        X['lac'] = X['lac'].apply(str)\n",
    "        X['cid'] = X['cid'].apply(str)\n",
    "        v1 = np.array(list(X['lac']))\n",
    "        v2 = np.array(list(X['cid']))\n",
    "        X['lacid'] = [v1[x]+'_'+v2[x] for x in tqdm(range(len(v1)))]\n",
    "        return X\n",
    "\n",
    "    def cat(self, X):        \n",
    "        res_df = self.got_counter_res_df_speed_fast(X['lacid'])\n",
    "        res_df.columns = ['lacid', 'count', '%']\n",
    "        res_df.drop('%', axis=1, inplace=True)\n",
    "        X =  X.merge(res_df, left_on='lacid', right_on='lacid', how='left')        \n",
    "        X = X[X['count'] > 9].reset_index(drop=True)\n",
    "        X.drop('count', axis=1, inplace=True)   \n",
    "        return X\n",
    "\n",
    "    def predict(self, value1, value2, df1, tq, logfile):\n",
    "        matr = []\n",
    "        for k in tqdm(range(len(df1))):\n",
    "            id1 = df1.loc[k, 'id1']\n",
    "            vec = self.mainfun(k, id1, self.value1, self.value2, df1, tq)\n",
    "            matr.append(vec)  \n",
    "            s = ';'.join([str(x) for x in vec])\n",
    "            self.write_to_log2(logfile, s)\n",
    "        matr = np.array(matr).copy()\n",
    "        return matr\n",
    "\n",
    "    def calc_solution(self, df1, matr):\n",
    "        vv = []\n",
    "        for i in tqdm(range(len(df1))): \n",
    "            f = 0\n",
    "            mx = np.max(matr[:,:])\n",
    "            for x in range((matr.shape[0])):\n",
    "                if f == 1:\n",
    "                    break\n",
    "                for y in range((matr.shape[1])):\n",
    "                    if matr[x, y] == mx:\n",
    "                        vv.append([x, y, mx])\n",
    "                        matr[x, :] = -1\n",
    "                        matr[:, y] = -1\n",
    "                        f = 1\n",
    "                        break\n",
    "        return vv\n",
    "    \n",
    "    def save_solution(self, logfile, df3, vv):\n",
    "        self.write_to_log2(logfile, 'id1;id2')\n",
    "        ww = []\n",
    "        for k in (range(0, len(vv))):\n",
    "            id1 = str(df3.loc[vv[k][0], 'id1'])\n",
    "            id2 = str(df3.loc[vv[k][1], 'id2'])\n",
    "            s = ';'.join([id1, id2])\n",
    "            self.write_to_log2(logfile, s)\n",
    "            ww.append([id1, id2])\n",
    "        return pd.DataFrame(ww, columns = ['id1','id2'])\n",
    "\n",
    "    def check_solution(self, sol2):\n",
    "        res1 = self.got_counter_res_df_speed_fast(sol2['id1'])\n",
    "        res2 = self.got_counter_res_df_speed_fast(sol2['id2'])\n",
    "        if res1.iloc[0,1] == 1 and res2.iloc[0,1] == 1:\n",
    "            s = 'True'\n",
    "        else:\n",
    "            s = 'False'\n",
    "        return s\n",
    "    \n",
    "    def got_counter_res_df_speed_fast(self, db):\n",
    "        unique, counts = np.unique(db, return_counts=True); \n",
    "        counter = dict(zip(unique, counts))\n",
    "        res_df = pd.DataFrame.from_dict(counter, orient='index').reset_index().rename(columns={'index':'event', 0:'count'})\n",
    "        n = (np.sum(res_df['count']))\n",
    "        res_df['%'] = [round((res_df.loc[i, 'count']*100/n),2) for i in (range(len(res_df)))]\n",
    "        return res_df\n",
    "        \n",
    "    def mainfun(self, k, id1, value1, value2, df1, tq):\n",
    "        id1 = df1.loc[k, 'id1']\n",
    "        vec = []\n",
    "        for j in (range(len(df1))):\n",
    "            id2 = df1.loc[j, 'id2']\n",
    "            ind1 = list(np.where(self.value1==id1)[0])\n",
    "            ind2 = list(np.where(self.value1==id2)[0])\n",
    "            db1 = self.value2[ind1]\n",
    "            db2 = self.value2[ind2]\n",
    "            v = self.subfun(id1, id2, db1, db2)\n",
    "            vec.append(v)\n",
    "        return vec\n",
    "       \n",
    "    def subfun(self, id1, id2, db1, db2):\n",
    "        v = list(set(db1) & set(db2))\n",
    "        mask = np.isin(db1, v)\n",
    "        a = db1[mask]\n",
    "        mask = np.isin(db2, v)\n",
    "        b = db2[mask]\n",
    "        s0 = len(v)\n",
    "        s1 = len(a)/len(db1)*100\n",
    "        s2 = len(b)/len(db2)*100\n",
    "        s3 = s1+s2\n",
    "        return np.sum([s0, s1, s2, s3])\n",
    "\n",
    "    def write_to_log2(self, log_file, string, enc = 'UTF-8'):\n",
    "        with open(log_file, mode='a', encoding = enc) as fileto:\n",
    "            fileto.write(string+'\\n')\n",
    "        fileto.close()    "
   ]
  },
  {
   "cell_type": "code",
   "execution_count": 3,
   "metadata": {},
   "outputs": [],
   "source": [
    "df0 = pd.read_csv('01_data_2.csv', sep = ';')\n",
    "df1 = pd.read_csv('02_etalon_2.csv', sep = ';')"
   ]
  },
  {
   "cell_type": "code",
   "execution_count": 4,
   "metadata": {},
   "outputs": [
    {
     "name": "stderr",
     "output_type": "stream",
     "text": [
      "100%|██████████| 335629/335629 [00:00<00:00, 1128324.25it/s]\n",
      "100%|██████████| 335629/335629 [00:00<00:00, 1036871.27it/s]\n",
      "100%|██████████| 335629/335629 [00:00<00:00, 2888652.80it/s]\n",
      "100%|██████████| 335629/335629 [00:00<00:00, 3165572.42it/s]\n"
     ]
    }
   ],
   "source": [
    "slt = SOLUTION()\n",
    "df0 = slt.fit(df0)\n",
    "value1, value2 = slt.get_value(df0)"
   ]
  },
  {
   "cell_type": "code",
   "execution_count": 5,
   "metadata": {},
   "outputs": [
    {
     "name": "stderr",
     "output_type": "stream",
     "text": [
      "100%|██████████| 20/20 [00:00<00:00, 30.22it/s]\n",
      "100%|██████████| 20/20 [00:00<00:00, 16750.42it/s]\n"
     ]
    },
    {
     "name": "stdout",
     "output_type": "stream",
     "text": [
      "True\n"
     ]
    }
   ],
   "source": [
    "logfile = 'train_0.csv'\n",
    "matr = slt.predict(value1, value2, df1, tq, logfile)\n",
    "vv = slt.calc_solution(df1, matr)\n",
    "logfile = 'train_1.csv'\n",
    "ww = slt.save_solution(logfile, df1, vv)\n",
    "print(slt.check_solution(ww))\n",
    "sol1 = pd.read_csv('train_1.csv', sep = ';')"
   ]
  },
  {
   "cell_type": "code",
   "execution_count": 6,
   "metadata": {},
   "outputs": [],
   "source": [
    "##############################################################################################\n",
    "# PREDICT\n",
    "##############################################################################################\n",
    "\n",
    "v = list(set(df1['id1'])) + list(set(df1['id2']))\n",
    "df2 = df0[~df0['hash_id'].isin(v)].reset_index(drop=True)\n",
    "\n",
    "v0 = list(set(df2[df2['fulldate'] < '2018-09-15']['hash_id']))\n",
    "v1 = list(set(df2[df2['fulldate'] > '2018-09-15']['hash_id']))\n",
    "v = [[v0[x], v1[x]] for x in range(len(v0))]\n",
    "df3 = pd.DataFrame(v, columns = ['id1', 'id2'])"
   ]
  },
  {
   "cell_type": "code",
   "execution_count": 7,
   "metadata": {},
   "outputs": [
    {
     "name": "stderr",
     "output_type": "stream",
     "text": [
      "100%|██████████| 289401/289401 [00:00<00:00, 2842260.75it/s]\n",
      "100%|██████████| 289401/289401 [00:00<00:00, 3076506.84it/s]\n",
      "100%|██████████| 20/20 [00:04<00:00,  4.99it/s]\n",
      "100%|██████████| 20/20 [00:00<00:00, 14685.94it/s]\n"
     ]
    },
    {
     "name": "stdout",
     "output_type": "stream",
     "text": [
      "True\n"
     ]
    }
   ],
   "source": [
    "logfile = 'test_0.csv'\n",
    "value1, value2 = slt.get_value(df2)\n",
    "matr = slt.predict(value1, value2, df3, tq, logfile)\n",
    "vv = slt.calc_solution(df3, matr)\n",
    "logfile = 'test_1.csv'\n",
    "ww = slt.save_solution(logfile, df3, vv)\n",
    "print(slt.check_solution(ww))\n",
    "soltest = pd.read_csv('test_1.csv', sep = ';')"
   ]
  },
  {
   "cell_type": "code",
   "execution_count": null,
   "metadata": {},
   "outputs": [],
   "source": []
  }
 ],
 "metadata": {
  "kernelspec": {
   "display_name": "Python 3",
   "language": "python",
   "name": "python3"
  },
  "language_info": {
   "codemirror_mode": {
    "name": "ipython",
    "version": 3
   },
   "file_extension": ".py",
   "mimetype": "text/x-python",
   "name": "python",
   "nbconvert_exporter": "python",
   "pygments_lexer": "ipython3",
   "version": "3.8.5"
  }
 },
 "nbformat": 4,
 "nbformat_minor": 4
}
