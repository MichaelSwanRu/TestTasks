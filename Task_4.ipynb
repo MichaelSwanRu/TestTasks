{
 "cells": [
  {
   "cell_type": "markdown",
   "id": "1cf7520d",
   "metadata": {},
   "source": [
    "### Задание 1"
   ]
  },
  {
   "cell_type": "markdown",
   "id": "c0383032",
   "metadata": {},
   "source": [
    "Задана таблица:\n",
    "\n",
    "    create table t(a int,b int);\n",
    "\n",
    "И данные:\n",
    "\n",
    "    insert into t(a,b) values (2,7);\n",
    "\n",
    "    insert into t(a,b) values (4,null);\n",
    "\n",
    "    insert into t(a,b) values (3,6);\n",
    "\n",
    "    insert into t(a,b) values (null,5);\n",
    "\n",
    "Вывести результат запроса:\n",
    "\n",
    "    select (sum(a)+sum(b))*2 - sum((a + b)*2) from t;\n",
    "\n",
    "1. -36\n",
    "2. 18\n",
    "3. 0\n",
    "4. NULL"
   ]
  },
  {
   "cell_type": "code",
   "execution_count": null,
   "id": "8d959e81",
   "metadata": {},
   "outputs": [],
   "source": [
    "Результат: 18"
   ]
  },
  {
   "cell_type": "markdown",
   "id": "97e7820b",
   "metadata": {},
   "source": [
    "### Задание 2"
   ]
  },
  {
   "cell_type": "markdown",
   "id": "3c9f1247",
   "metadata": {},
   "source": [
    "Есть две таблицы с данными: одна с данными по отделам, другая с данными по сотрудникам.    \n",
    "\n",
    "DEPARTMENTS, с полями: \n",
    "                    \n",
    "                    ID (name, pk), \n",
    "                    \n",
    "                    Number (varchar2(100))\n",
    "\n",
    "EMPLOYEE, с полями: \n",
    "\n",
    "                   ID (number, pk), \n",
    "                   \n",
    "                   DEPARTMENT_id (number, fk1), \n",
    "                   \n",
    "                   CHIEF_ID (number, fk2), \n",
    "                   \n",
    "                   NAME (varchar2(100)), \n",
    "                   \n",
    "                   SALARY (number).\n",
    "\n",
    "Составьте SQL-запрос, который позволит вывести список сотрудников, \n",
    "получающих заработную плату в 1,5-2 раза меньше зарплаты непосредственного руководителя, с названиями их отделов.\n",
    "\n",
    "\n"
   ]
  },
  {
   "cell_type": "code",
   "execution_count": null,
   "id": "20739b8d",
   "metadata": {},
   "outputs": [],
   "source": [
    "Select a.name Employee_name, c.name DEPARTMENT_name from employee a\n",
    "    left join (select * from employee) b on a.chief_id=b.id\n",
    "    left join (select * from department) c on a.department_id=c.id\n",
    "where b.salary/a.salary >=1.5 and b.salary/a.salary <=2"
   ]
  },
  {
   "cell_type": "markdown",
   "id": "89ca4b36",
   "metadata": {},
   "source": [
    "### Задание 3"
   ]
  },
  {
   "cell_type": "markdown",
   "id": "9cc85989",
   "metadata": {},
   "source": [
    "Под азартностью игрока будем понимать среднее арифметическое взвешенное коэффициентов его ставок, \n",
    "\n",
    "где в качестве весов будут выступать суммы ставок. ",
    "Рассчитайте показатель азартности игрока, совершившего\n",
    "\n",
    "10 ставок по 10₽ со всеми возможными коэффициентами из диапазона 101-200, кратными 10;\n",
    "\n",
    "10 ставок по 50₽ со всеми возможными целочисленными коэффициентами из диапазона 11-20;\n",
    "\n",
    "одну ставку на 400₽ с коэффициентом 2,5;\n",
    "\n",
    "одну ставку на 1000₽ с коэффициентом 1,8;\n",
    "\n",
    "одну ставку на 8000₽ с коэффициентом 1,12.\n",
    "\n",
    "Рассчитайте также средний арифметический и медианный коэффициенты его ставок."
   ]
  },
  {
   "cell_type": "code",
   "execution_count": null,
   "id": "63ec2802",
   "metadata": {},
   "outputs": [],
   "source": [
    "import numpy as np\n",
    "v0 = 10*[10*x*10 for x in range(11, 21)]\n",
    "v1 = 10*[50*x for x in range(11, 21)]\n",
    "v2 = [400*2.5, 1000*1.8, 8000*1.12]\n",
    "v = v0+v1+v2\n",
    "print(np.mean(v))\n",
    "Результат: 1203.25\n",
    "\n",
    "v0 = 10*[x*10 for x in range(11, 21)]\n",
    "v1 = 10*[x for x in range(11, 21)]\n",
    "v2 = [2.5, 1.8, 1.12]\n",
    "v = v0+v1+v2\n",
    "print(np.mean(v), np.median(v))\n",
    "Результат: 84, 20\n"
   ]
  },
  {
   "cell_type": "markdown",
   "id": "096f83f6",
   "metadata": {},
   "source": [
    "### Задание 4"
   ]
  },
  {
   "cell_type": "markdown",
   "id": "e754ce5a",
   "metadata": {},
   "source": [
    "Для проведения новой рассылки по клиентам было отобрано 10 тысяч клиентов. \n",
    "\n",
    "Из них выделили случайным образом контрольную группу в 1000 человек. \n",
    "\n",
    "Продажи по целевой группе клиентов составили 4% штук, а по контрольной – 3%. \n",
    "\n",
    "Была ли рассылка полезной, если каждая продажа приносит 50$ прибыли, \n",
    "\n",
    "а стоимость рассылки – 0,5$ за сообщение? "
   ]
  },
  {
   "cell_type": "code",
   "execution_count": 10,
   "id": "0a1020e0",
   "metadata": {},
   "outputs": [
    {
     "data": {
      "text/html": [
       "<div>\n",
       "<style scoped>\n",
       "    .dataframe tbody tr th:only-of-type {\n",
       "        vertical-align: middle;\n",
       "    }\n",
       "\n",
       "    .dataframe tbody tr th {\n",
       "        vertical-align: top;\n",
       "    }\n",
       "\n",
       "    .dataframe thead th {\n",
       "        text-align: right;\n",
       "    }\n",
       "</style>\n",
       "<table border=\"1\" class=\"dataframe\">\n",
       "  <thead>\n",
       "    <tr style=\"text-align: right;\">\n",
       "      <th></th>\n",
       "      <th>Группа</th>\n",
       "      <th>Кол-во клиентов</th>\n",
       "      <th>Конверсия %</th>\n",
       "      <th>Кол-во покупателей</th>\n",
       "      <th>Выручка $</th>\n",
       "      <th>Стоимость рассылки %</th>\n",
       "      <th>Прибыль $</th>\n",
       "    </tr>\n",
       "  </thead>\n",
       "  <tbody>\n",
       "    <tr>\n",
       "      <th>0</th>\n",
       "      <td>Целевая</td>\n",
       "      <td>9 000</td>\n",
       "      <td>4</td>\n",
       "      <td>360</td>\n",
       "      <td>360*50$ = 18 000</td>\n",
       "      <td>9000 *0,5% = 4 500</td>\n",
       "      <td>13 500</td>\n",
       "    </tr>\n",
       "    <tr>\n",
       "      <th>1</th>\n",
       "      <td>Контрольная</td>\n",
       "      <td>1 000</td>\n",
       "      <td>3</td>\n",
       "      <td>30</td>\n",
       "      <td>30 *50$ = 1 500</td>\n",
       "      <td></td>\n",
       "      <td>1 500</td>\n",
       "    </tr>\n",
       "  </tbody>\n",
       "</table>\n",
       "</div>"
      ],
      "text/plain": [
       "        Группа Кол-во клиентов  Конверсия %  Кол-во покупателей  \\\n",
       "0      Целевая           9 000            4                 360   \n",
       "1  Контрольная           1 000            3                  30   \n",
       "\n",
       "          Выручка $ Стоимость рассылки % Прибыль $  \n",
       "0  360*50$ = 18 000   9000 *0,5% = 4 500    13 500  \n",
       "1   30 *50$ = 1 500                          1 500  "
      ]
     },
     "execution_count": 10,
     "metadata": {},
     "output_type": "execute_result"
    }
   ],
   "source": [
    "import pandas as pd\n",
    "table = pd.DataFrame({'Группа':['Целевая','Контрольная'], \n",
    "                      'Кол-во клиентов': ['9 000', '1 000'],\n",
    "                      'Конверсия %': [4, 3],\n",
    "                      'Кол-во покупателей': [360, 30],\n",
    "                      'Выручка $': ['360*50$ = 18 000', '30 *50$ = 1 500'],\n",
    "                      'Стоимость рассылки %': ['9000 *0,5% = 4 500', ''],\n",
    "                      'Прибыль $': ['13 500', '1 500']\n",
    "                     })\n",
    "table"
   ]
  },
  {
   "cell_type": "code",
   "execution_count": null,
   "id": "232a91a3",
   "metadata": {},
   "outputs": [],
   "source": [
    "Посчитаем, каким был бы доход без рассылки, ориентируясь на доход от контрольной группы.\n",
    "13 500 – 1500/1000*9000 = 0\n",
    "\n",
    "Итого: Рассылка не была полезной (так как дополнительная прибыль пошла на рассылку), \n",
    "    ни бесполезной, так как конверсия увеличилась на 1%."
   ]
  }
 ],
 "metadata": {
  "kernelspec": {
   "display_name": "Python 3",
   "language": "python",
   "name": "python3"
  },
  "language_info": {
   "codemirror_mode": {
    "name": "ipython",
    "version": 3
   },
   "file_extension": ".py",
   "mimetype": "text/x-python",
   "name": "python",
   "nbconvert_exporter": "python",
   "pygments_lexer": "ipython3",
   "version": "3.6.13"
  }
 },
 "nbformat": 4,
 "nbformat_minor": 5
}
