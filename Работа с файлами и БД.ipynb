{
 "cells": [
  {
   "cell_type": "code",
   "execution_count": 75,
   "metadata": {},
   "outputs": [],
   "source": [
    "#!pip install sqlite pandas numpy"
   ]
  },
  {
   "cell_type": "code",
   "execution_count": 2,
   "metadata": {},
   "outputs": [],
   "source": [
    "import pandas as pd\n",
    "import numpy as np\n",
    "import os\n",
    "import sqlite3"
   ]
  },
  {
   "cell_type": "markdown",
   "metadata": {},
   "source": [
    "### Вспомогательные функции для работы с базой данных SQLite"
   ]
  },
  {
   "cell_type": "code",
   "execution_count": null,
   "metadata": {},
   "outputs": [],
   "source": [
    "def create_batabase(basename):\n",
    "    try:\n",
    "        sqlite_connection = sqlite3.connect(basename+'.db')\n",
    "        cursor = sqlite_connection.cursor()\n",
    "        print(\"База данных создана и успешно подключена к SQLite\")\n",
    "        sqlite_select_query = \"select sqlite_version();\"\n",
    "        cursor.execute(sqlite_select_query)\n",
    "        record = cursor.fetchall()\n",
    "        print(\"Версия базы данных SQLite: \", record)\n",
    "        cursor.close()\n",
    "    except sqlite3.Error as error:\n",
    "        print(\"Ошибка при подключении к sqlite\", error)\n",
    "    finally:\n",
    "        if (sqlite_connection):\n",
    "            sqlite_connection.close()\n",
    "            print(\"Соединение с SQLite закрыто\")\n",
    "                       \n",
    "def execute(sql,basename):\n",
    "    sqlite_connection = sqlite3.connect(basename+'.db', timeout=10)\n",
    "    cursor = sqlite_connection.cursor()\n",
    "    cursor.execute(sql)\n",
    "    sqlite_connection.commit()\n",
    "    cursor.close()\n",
    "\n",
    "def retexec(sql,basename):\n",
    "    sqlite_connection = sqlite3.connect(basename+'.db', timeout=10)\n",
    "    cursor = sqlite_connection.cursor()\n",
    "    cursor.execute(sql)\n",
    "    cur = cursor.fetchall()\n",
    "    r = pd.DataFrame(cur)\n",
    "    if cursor is not None and isinstance (cursor, sqlite3.Cursor):\n",
    "        colnames = [row[0] for row in cursor.description]\n",
    "        if len(r.columns) == len(colnames):\n",
    "            r.columns = colnames\n",
    "    sqlite_connection.commit()\n",
    "    cursor.close()\n",
    "    return r\n",
    "\n",
    "def fill_table_many(table_name, dbs, datecolumns,basename):\n",
    "    start = datetime.now()\n",
    "    data = dbs.copy()\n",
    "    for c in data.columns:\n",
    "        data[c] = data[c].apply(str)\n",
    "    ve = [x.upper() for x in data.columns]\n",
    "    vc = '\", \"'.join(ve)\n",
    "    vc = '(\"'+vc+'\")'\n",
    "    vd = '\", :\"'.join(ve)\n",
    "    vd = '(:\"'+vd+'\")'    \n",
    "    ve = ['?' for x in data.columns]\n",
    "    vc = ', '.join(ve)\n",
    "    vc = '('+vc+')'\n",
    "    sql = (\"\"\"insert into \"\"\"+table_name+\"\"\" values \"\"\"+vc)\n",
    "    result = []\n",
    "    for j in tqdm(range(len(data))):\n",
    "        res = [data.loc[j, c] for c in data.columns]\n",
    "        res = tuple(i for i in res)\n",
    "        result.append(res)\n",
    "    try:\n",
    "        connection = sqlite3.connect(basename+'.db', timeout=10)\n",
    "        cur = connection.cursor()\n",
    "        cur.executemany(sql,  result)\n",
    "        connection.commit()\n",
    "        cur.close()\n",
    "    except:\n",
    "        print(cur.rowcount)\n",
    "    finish = datetime.now()\n",
    "    t = '{}'.format(finish-start)\n",
    "    print(t)"
   ]
  },
  {
   "cell_type": "markdown",
   "metadata": {},
   "source": [
    "### Путь рабочего каталога"
   ]
  },
  {
   "cell_type": "code",
   "execution_count": 3,
   "metadata": {},
   "outputs": [
    {
     "data": {
      "text/plain": [
       "'/Users/lmv'"
      ]
     },
     "execution_count": 3,
     "metadata": {},
     "output_type": "execute_result"
    }
   ],
   "source": [
    "os.getcwd()"
   ]
  },
  {
   "cell_type": "markdown",
   "metadata": {},
   "source": [
    "### Создание таблицы с данными"
   ]
  },
  {
   "cell_type": "code",
   "execution_count": 5,
   "metadata": {},
   "outputs": [
    {
     "name": "stdout",
     "output_type": "stream",
     "text": [
      "   ID  ID_LEAD  ID_DEP        NAME     SALARY\n",
      "0   1        2       1        ИВАН   94000.00\n",
      "1   2        2       1      МАКСИМ  138000.33\n",
      "2   3        3       3  АЛЕКСАНДРА  192003.22\n",
      "3   4        4       4       МАРИЯ   57800.00\n",
      "4   5        2       1       АЛЕНА  200000.00\n"
     ]
    }
   ],
   "source": [
    "STAFF = pd.DataFrame({\n",
    "    'ID':[1,2,3,4, 5], \n",
    "    'ID_LEAD': [2,2,3,4,2],\n",
    "    'ID_DEP': [1,1,3,4,1],\n",
    "    'NAME': ['ИВАН', 'МАКСИМ', 'АЛЕКСАНДРА', 'МАРИЯ', 'АЛЕНА'],\n",
    "    'SALARY': [94000.00, 138000.33, 192003.22, 57800, 200000],\n",
    "})\n",
    "print(STAFF)"
   ]
  },
  {
   "cell_type": "markdown",
   "metadata": {},
   "source": [
    "### Сохранение и чтение CSV"
   ]
  },
  {
   "cell_type": "code",
   "execution_count": 7,
   "metadata": {},
   "outputs": [],
   "source": [
    "STAFF.to_csv('my_dataset.csv', index=False, sep=';', encoding='cp1251')"
   ]
  },
  {
   "cell_type": "code",
   "execution_count": 69,
   "metadata": {},
   "outputs": [
    {
     "name": "stdout",
     "output_type": "stream",
     "text": [
      "   ID  ID_LEAD  ID_DEP        NAME     SALARY\n",
      "0   1        2       1        ИВАН   94000.00\n",
      "1   2        2       1      МАКСИМ  138000.33\n",
      "2   3        3       3  АЛЕКСАНДРА  192003.22\n",
      "3   4        4       4       МАРИЯ   57800.00\n",
      "4   5        2       1       АЛЕНА  200000.00\n"
     ]
    }
   ],
   "source": [
    "df = pd.read_csv('my_dataset.csv', sep=';', encoding='cp1251')\n",
    "print(df)"
   ]
  },
  {
   "cell_type": "markdown",
   "metadata": {},
   "source": [
    "### Сохранение и чтение PKL"
   ]
  },
  {
   "cell_type": "code",
   "execution_count": 19,
   "metadata": {},
   "outputs": [
    {
     "data": {
      "text/plain": [
       "True"
      ]
     },
     "execution_count": 19,
     "metadata": {},
     "output_type": "execute_result"
    }
   ],
   "source": [
    "df.to_pickle('my_dataset.pkl')\n",
    "\n",
    "df2 = pd.read_pickle('my_dataset.pkl')\n",
    "\n",
    "df.equals(df2)"
   ]
  },
  {
   "cell_type": "markdown",
   "metadata": {},
   "source": [
    "### Сохранение и чтение XLSX"
   ]
  },
  {
   "cell_type": "code",
   "execution_count": 16,
   "metadata": {},
   "outputs": [],
   "source": [
    "df.to_excel(\"output.xlsx\", sheet_name='Sheet_name_1', index=False)"
   ]
  },
  {
   "cell_type": "code",
   "execution_count": 17,
   "metadata": {},
   "outputs": [
    {
     "data": {
      "text/html": [
       "<div>\n",
       "<style scoped>\n",
       "    .dataframe tbody tr th:only-of-type {\n",
       "        vertical-align: middle;\n",
       "    }\n",
       "\n",
       "    .dataframe tbody tr th {\n",
       "        vertical-align: top;\n",
       "    }\n",
       "\n",
       "    .dataframe thead th {\n",
       "        text-align: right;\n",
       "    }\n",
       "</style>\n",
       "<table border=\"1\" class=\"dataframe\">\n",
       "  <thead>\n",
       "    <tr style=\"text-align: right;\">\n",
       "      <th></th>\n",
       "      <th>ID</th>\n",
       "      <th>ID_LEAD</th>\n",
       "      <th>ID_DEP</th>\n",
       "      <th>NAME</th>\n",
       "      <th>SALARY</th>\n",
       "    </tr>\n",
       "  </thead>\n",
       "  <tbody>\n",
       "    <tr>\n",
       "      <th>0</th>\n",
       "      <td>1</td>\n",
       "      <td>2</td>\n",
       "      <td>1</td>\n",
       "      <td>ИВАН</td>\n",
       "      <td>94000.00</td>\n",
       "    </tr>\n",
       "    <tr>\n",
       "      <th>1</th>\n",
       "      <td>2</td>\n",
       "      <td>2</td>\n",
       "      <td>1</td>\n",
       "      <td>МАКСИМ</td>\n",
       "      <td>138000.33</td>\n",
       "    </tr>\n",
       "    <tr>\n",
       "      <th>2</th>\n",
       "      <td>3</td>\n",
       "      <td>3</td>\n",
       "      <td>3</td>\n",
       "      <td>АЛЕКСАНДРА</td>\n",
       "      <td>192003.22</td>\n",
       "    </tr>\n",
       "    <tr>\n",
       "      <th>3</th>\n",
       "      <td>4</td>\n",
       "      <td>4</td>\n",
       "      <td>4</td>\n",
       "      <td>МАРИЯ</td>\n",
       "      <td>57800.00</td>\n",
       "    </tr>\n",
       "    <tr>\n",
       "      <th>4</th>\n",
       "      <td>5</td>\n",
       "      <td>2</td>\n",
       "      <td>1</td>\n",
       "      <td>АЛЕНА</td>\n",
       "      <td>200000.00</td>\n",
       "    </tr>\n",
       "  </tbody>\n",
       "</table>\n",
       "</div>"
      ],
      "text/plain": [
       "   ID  ID_LEAD  ID_DEP        NAME     SALARY\n",
       "0   1        2       1        ИВАН   94000.00\n",
       "1   2        2       1      МАКСИМ  138000.33\n",
       "2   3        3       3  АЛЕКСАНДРА  192003.22\n",
       "3   4        4       4       МАРИЯ   57800.00\n",
       "4   5        2       1       АЛЕНА  200000.00"
      ]
     },
     "execution_count": 17,
     "metadata": {},
     "output_type": "execute_result"
    }
   ],
   "source": [
    "dbs = pd.read_excel(\"output.xlsx\", sheet_name='Sheet_name_1')\n",
    "dbs.head()"
   ]
  },
  {
   "cell_type": "code",
   "execution_count": 70,
   "metadata": {},
   "outputs": [
    {
     "data": {
      "text/plain": [
       "True"
      ]
     },
     "execution_count": 70,
     "metadata": {},
     "output_type": "execute_result"
    }
   ],
   "source": [
    "df.equals(dbs)"
   ]
  },
  {
   "cell_type": "markdown",
   "metadata": {},
   "source": [
    "### Сохранение и чтение XLSX, несколько листов"
   ]
  },
  {
   "cell_type": "code",
   "execution_count": 77,
   "metadata": {},
   "outputs": [],
   "source": [
    "df2 = df.copy()\n",
    "with pd.ExcelWriter('output.xlsx') as writer:  \n",
    "    df.to_excel(writer, sheet_name='Sheet_name_1', index=False)\n",
    "    df2.to_excel(writer, sheet_name='Sheet_name_2', index=False)"
   ]
  },
  {
   "cell_type": "code",
   "execution_count": 78,
   "metadata": {},
   "outputs": [],
   "source": [
    "db1 = pd.read_excel(\"output.xlsx\", sheet_name='Sheet_name_1')\n",
    "db2 = pd.read_excel(\"output.xlsx\", sheet_name='Sheet_name_2')"
   ]
  },
  {
   "cell_type": "markdown",
   "metadata": {},
   "source": [
    "### Сохранение в базу данных SQLite"
   ]
  },
  {
   "cell_type": "code",
   "execution_count": 21,
   "metadata": {},
   "outputs": [
    {
     "name": "stdout",
     "output_type": "stream",
     "text": [
      "База данных создана и успешно подключена к SQLite\n",
      "Версия базы данных SQLite:  [('3.33.0',)]\n",
      "Соединение с SQLite закрыто\n"
     ]
    }
   ],
   "source": [
    "basename = 'sqlite_python_new'\n",
    "create_batabase(basename)"
   ]
  },
  {
   "cell_type": "code",
   "execution_count": 67,
   "metadata": {},
   "outputs": [
    {
     "name": "stdout",
     "output_type": "stream",
     "text": [
      "Категориальные признаки ['NAME']\n",
      "Числовые целые признаки ['ID', 'ID_LEAD', 'ID_DEP']\n",
      "Числовые дробные признаки ['SALARY']\n"
     ]
    }
   ],
   "source": [
    "categorical_columns = [c for c in df.columns if df[c].dtype.name == 'object']\n",
    "numerical_columns   = [c for c in df.columns if df[c].dtype.name != 'object']\n",
    "numerical_int_columns   = [c for c in numerical_columns if str(np.dtype(df[c])).count('int') >  0 ]\n",
    "numerical_flt_columns   = [c for c in numerical_columns if str(np.dtype(df[c])).count('int') == 0 ]\n",
    "print('Категориальные признаки', categorical_columns)\n",
    "print('Числовые целые признаки', numerical_int_columns)\n",
    "print('Числовые дробные признаки', numerical_flt_columns)"
   ]
  },
  {
   "cell_type": "code",
   "execution_count": 52,
   "metadata": {},
   "outputs": [
    {
     "name": "stdout",
     "output_type": "stream",
     "text": [
      "['INTEGER', 'INTEGER', 'INTEGER', 'TEXT', 'Decimal']\n"
     ]
    }
   ],
   "source": [
    "types = []\n",
    "for c in df.columns:\n",
    "    if c in categorical_columns: types.append('TEXT')\n",
    "    if c in numerical_int_columns: types.append('INTEGER')\n",
    "    if c in numerical_flt_columns: types.append('Decimal')\n",
    "print(types)"
   ]
  },
  {
   "cell_type": "markdown",
   "metadata": {},
   "source": [
    "### Создание таблицы"
   ]
  },
  {
   "cell_type": "code",
   "execution_count": 56,
   "metadata": {},
   "outputs": [],
   "source": [
    "fields = list(df.columns)\n",
    "table_name = 'STAFF'\n",
    "s = []\n",
    "for i in range(len(fields)):\n",
    "    s.append(' '.join([fields[i], types[i]]))\n",
    "s = ', '.join(s)\n",
    "\n",
    "sql = \"\"\"CREATE TABLE IF NOT EXISTS \"\"\"+table_name+\"\"\" ( \"\"\"+s+\"\"\");\"\"\"\n",
    "execute(sql, basename)"
   ]
  },
  {
   "cell_type": "markdown",
   "metadata": {},
   "source": [
    "### Чтение из базы данных"
   ]
  },
  {
   "cell_type": "code",
   "execution_count": 57,
   "metadata": {},
   "outputs": [],
   "source": [
    "dfs = retexec(\"\"\"select * from \"\"\"+table_name, basename)\n",
    "print(dfs)"
   ]
  },
  {
   "cell_type": "code",
   "execution_count": 58,
   "metadata": {},
   "outputs": [
    {
     "data": {
      "text/html": [
       "<div>\n",
       "<style scoped>\n",
       "    .dataframe tbody tr th:only-of-type {\n",
       "        vertical-align: middle;\n",
       "    }\n",
       "\n",
       "    .dataframe tbody tr th {\n",
       "        vertical-align: top;\n",
       "    }\n",
       "\n",
       "    .dataframe thead th {\n",
       "        text-align: right;\n",
       "    }\n",
       "</style>\n",
       "<table border=\"1\" class=\"dataframe\">\n",
       "  <thead>\n",
       "    <tr style=\"text-align: right;\">\n",
       "      <th></th>\n",
       "    </tr>\n",
       "  </thead>\n",
       "  <tbody>\n",
       "  </tbody>\n",
       "</table>\n",
       "</div>"
      ],
      "text/plain": [
       "Empty DataFrame\n",
       "Columns: []\n",
       "Index: []"
      ]
     },
     "execution_count": 58,
     "metadata": {},
     "output_type": "execute_result"
    }
   ],
   "source": [
    "dfs"
   ]
  },
  {
   "cell_type": "markdown",
   "metadata": {},
   "source": [
    "### Запись данных в таблицу"
   ]
  },
  {
   "cell_type": "code",
   "execution_count": 61,
   "metadata": {},
   "outputs": [
    {
     "name": "stderr",
     "output_type": "stream",
     "text": [
      "100%|██████████| 5/5 [00:00<00:00, 1679.47it/s]"
     ]
    },
    {
     "name": "stdout",
     "output_type": "stream",
     "text": [
      "0:00:00.030040\n"
     ]
    },
    {
     "name": "stderr",
     "output_type": "stream",
     "text": [
      "\n"
     ]
    }
   ],
   "source": [
    "datecolumns=[]\n",
    "fill_table_many(table_name, df, datecolumns, basename)"
   ]
  },
  {
   "cell_type": "code",
   "execution_count": 62,
   "metadata": {},
   "outputs": [
    {
     "name": "stdout",
     "output_type": "stream",
     "text": [
      "   ID  ID_LEAD  ID_DEP        NAME     SALARY\n",
      "0   1        2       1        ИВАН   94000.00\n",
      "1   2        2       1      МАКСИМ  138000.33\n",
      "2   3        3       3  АЛЕКСАНДРА  192003.22\n",
      "3   4        4       4       МАРИЯ   57800.00\n",
      "4   5        2       1       АЛЕНА  200000.00\n"
     ]
    }
   ],
   "source": [
    "dfs = retexec(\"\"\"select * from \"\"\"+table_name, basename)\n",
    "print(dfs)"
   ]
  },
  {
   "cell_type": "markdown",
   "metadata": {},
   "source": [
    "### Запись и чтение массивов Numpy из файла"
   ]
  },
  {
   "cell_type": "code",
   "execution_count": 63,
   "metadata": {},
   "outputs": [
    {
     "data": {
      "text/plain": [
       "array([[ 7,  4,  5],\n",
       "       [ 8,  3,  2],\n",
       "       [ 6, 10, 12]])"
      ]
     },
     "execution_count": 63,
     "metadata": {},
     "output_type": "execute_result"
    }
   ],
   "source": [
    "#Массивы numpy можно сохранять в файлы с расширением '.npy' и читать из таких файлов.\n",
    "a = np.array([[7, 4, 5],\n",
    "              [8, 3, 2],\n",
    "              [6, 10, 12]])\n",
    "\n",
    "np.save(\"a.npy\", a)\n",
    "\n",
    "#Для чтения из файла используется функция `np.load`:\n",
    "\n",
    "a = np.load(\"a.npy\")\n",
    "\n",
    "a"
   ]
  },
  {
   "cell_type": "markdown",
   "metadata": {},
   "source": [
    "### Чтение из URL"
   ]
  },
  {
   "cell_type": "code",
   "execution_count": 65,
   "metadata": {},
   "outputs": [],
   "source": [
    "url = 'https://archive.ics.uci.edu/ml/machine-learning-databases/credit-screening/crx.data'\n",
    "data = pd.read_csv(url, header=None, na_values='?')"
   ]
  },
  {
   "cell_type": "code",
   "execution_count": 66,
   "metadata": {},
   "outputs": [
    {
     "name": "stdout",
     "output_type": "stream",
     "text": [
      "    0      1       2  3  4   5   6     7  8  9   10 11 12     13   14 15\n",
      "0    b  30.83   0.000  u  g   w   v  1.25  t  t   1  f  g  202.0    0  +\n",
      "1    a  58.67   4.460  u  g   q   h  3.04  t  t   6  f  g   43.0  560  +\n",
      "2    a  24.50   0.500  u  g   q   h  1.50  t  f   0  f  g  280.0  824  +\n",
      "3    b  27.83   1.540  u  g   w   v  3.75  t  t   5  t  g  100.0    3  +\n",
      "4    b  20.17   5.625  u  g   w   v  1.71  t  f   0  f  s  120.0    0  +\n",
      "..  ..    ...     ... .. ..  ..  ..   ... .. ..  .. .. ..    ...  ... ..\n",
      "685  b  21.08  10.085  y  p   e   h  1.25  f  f   0  f  g  260.0    0  -\n",
      "686  a  22.67   0.750  u  g   c   v  2.00  f  t   2  t  g  200.0  394  -\n",
      "687  a  25.25  13.500  y  p  ff  ff  2.00  f  t   1  t  g  200.0    1  -\n",
      "688  b  17.92   0.205  u  g  aa   v  0.04  f  f   0  f  g  280.0  750  -\n",
      "689  b  35.00   3.375  u  g   c   h  8.29  f  f   0  t  g    0.0    0  -\n",
      "\n",
      "[690 rows x 16 columns]\n"
     ]
    }
   ],
   "source": [
    "print(data)"
   ]
  },
  {
   "cell_type": "code",
   "execution_count": null,
   "metadata": {},
   "outputs": [],
   "source": []
  }
 ],
 "metadata": {
  "kernelspec": {
   "display_name": "Python 3",
   "language": "python",
   "name": "python3"
  },
  "language_info": {
   "codemirror_mode": {
    "name": "ipython",
    "version": 3
   },
   "file_extension": ".py",
   "mimetype": "text/x-python",
   "name": "python",
   "nbconvert_exporter": "python",
   "pygments_lexer": "ipython3",
   "version": "3.8.5"
  }
 },
 "nbformat": 4,
 "nbformat_minor": 4
}
