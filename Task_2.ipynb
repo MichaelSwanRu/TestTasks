{
 "cells": [
  {
   "cell_type": "markdown",
   "metadata": {},
   "source": [
    "  <a id='link_0'></a>"
   ]
  },
  {
   "cell_type": "markdown",
   "metadata": {},
   "source": [
    "## Содержание\n",
    " <a href='#link_1'>1. Задача #1 - Python.</a>\n",
    " \n",
    " <a href='#link_2'>2. Задача #2 - SQL.</a>\n",
    " \n",
    " <a href='#link_3'>3. Задача #3 - Python ML.</a>"
   ]
  },
  {
   "cell_type": "markdown",
   "metadata": {},
   "source": [
    "Задания необходимо оформить в формате ipython-notebook (.ipynb). На code style будет так же обращено внимание."
   ]
  },
  {
   "cell_type": "markdown",
   "metadata": {},
   "source": [
    "  <a id='link_1'></a>"
   ]
  },
  {
   "cell_type": "markdown",
   "metadata": {},
   "source": [
    "### Задача #1 - Python\n",
    "- На языке python 3 версии и новее и без использования сторонних библиотек напишите функцию, считывающую с пользовательского ввода целое неотрицательное число $n$, а затем выводящую это число в ячейку вместе с преобразованным словом \"программист\". $ 0 <= n <= 1000$. Например: 0 программистов, 4 программиста, 11 программистов."
   ]
  },
  {
   "cell_type": "code",
   "execution_count": 3,
   "metadata": {},
   "outputs": [],
   "source": [
    "def function0(s, d):\n",
    "    s = str(s)\n",
    "    r = ''\n",
    "    if s[-1] == '0': r = d + 'ов'\n",
    "    if int(s) >= 10 and int(s) <= 20: r = d + 'ов'\n",
    "    if int(s) > 20 or int(s) < 10:\n",
    "        if s[-1] == '1': r = d\n",
    "        if s[-1] in ['2', '3', '4']: r = d + 'а'\n",
    "        if s[-1] in ['5', '6', '7', '8', '9']: r = d + 'ов'\n",
    "    return r"
   ]
  },
  {
   "cell_type": "code",
   "execution_count": 4,
   "metadata": {},
   "outputs": [
    {
     "name": "stdout",
     "output_type": "stream",
     "text": [
      "123\n"
     ]
    },
    {
     "data": {
      "text/plain": [
       "'программиста'"
      ]
     },
     "execution_count": 4,
     "metadata": {},
     "output_type": "execute_result"
    }
   ],
   "source": [
    "function0(input(), d = 'программист')"
   ]
  },
  {
   "cell_type": "markdown",
   "metadata": {},
   "source": [
    "  <a id='link_2'></a>"
   ]
  },
  {
   "cell_type": "markdown",
   "metadata": {},
   "source": [
    "### Задача #2 - SQL\n",
    "Даны таблицы:\n",
    "- DEPARTMENTS, с полями: ID (int, pk), NAME (string)\n",
    "- STAFF, с полями: ID (int, pk), ID_LEAD (int), ID_DEP (int), NAME (string), SALARY (float).\n",
    "<br> Таблицы DEPARTMENTS и STAFF связаны с помощью полей DEPARTMENTS.ID и STAFF.ID_DEP\n",
    "\n",
    "Напишите SQL запрос для решения следующих задач:\n",
    "- Выведите наименование отдела с наибольшим числом сотрудников\n",
    "- Выведите ID сотрудников с зарплатой выше, чем у руководителя\n",
    "- Выведите ID отделов, число сотрудников в которых меньше 3 человек"
   ]
  },
  {
   "cell_type": "code",
   "execution_count": 1,
   "metadata": {},
   "outputs": [
    {
     "data": {
      "text/html": [
       "<div>\n",
       "<style scoped>\n",
       "    .dataframe tbody tr th:only-of-type {\n",
       "        vertical-align: middle;\n",
       "    }\n",
       "\n",
       "    .dataframe tbody tr th {\n",
       "        vertical-align: top;\n",
       "    }\n",
       "\n",
       "    .dataframe thead th {\n",
       "        text-align: right;\n",
       "    }\n",
       "</style>\n",
       "<table border=\"1\" class=\"dataframe\">\n",
       "  <thead>\n",
       "    <tr style=\"text-align: right;\">\n",
       "      <th></th>\n",
       "      <th>ID</th>\n",
       "      <th>NAME</th>\n",
       "    </tr>\n",
       "  </thead>\n",
       "  <tbody>\n",
       "    <tr>\n",
       "      <th>0</th>\n",
       "      <td>1</td>\n",
       "      <td>Отдел разработки</td>\n",
       "    </tr>\n",
       "    <tr>\n",
       "      <th>1</th>\n",
       "      <td>2</td>\n",
       "      <td>Отдел CRM</td>\n",
       "    </tr>\n",
       "    <tr>\n",
       "      <th>2</th>\n",
       "      <td>3</td>\n",
       "      <td>Служба безопасности</td>\n",
       "    </tr>\n",
       "    <tr>\n",
       "      <th>3</th>\n",
       "      <td>4</td>\n",
       "      <td>Риски</td>\n",
       "    </tr>\n",
       "  </tbody>\n",
       "</table>\n",
       "</div>"
      ],
      "text/plain": [
       "   ID                 NAME\n",
       "0   1     Отдел разработки\n",
       "1   2            Отдел CRM\n",
       "2   3  Служба безопасности\n",
       "3   4                Риски"
      ]
     },
     "execution_count": 1,
     "metadata": {},
     "output_type": "execute_result"
    }
   ],
   "source": [
    "# Пример таблиц\n",
    "import pandas as pd\n",
    "DEPARTMENTS = pd.DataFrame({'ID':[1,2,3,4], 'NAME': ['Отдел разработки','Отдел CRM','Служба безопасности','Риски']})\n",
    "DEPARTMENTS"
   ]
  },
  {
   "cell_type": "code",
   "execution_count": 2,
   "metadata": {},
   "outputs": [
    {
     "data": {
      "text/html": [
       "<div>\n",
       "<style scoped>\n",
       "    .dataframe tbody tr th:only-of-type {\n",
       "        vertical-align: middle;\n",
       "    }\n",
       "\n",
       "    .dataframe tbody tr th {\n",
       "        vertical-align: top;\n",
       "    }\n",
       "\n",
       "    .dataframe thead th {\n",
       "        text-align: right;\n",
       "    }\n",
       "</style>\n",
       "<table border=\"1\" class=\"dataframe\">\n",
       "  <thead>\n",
       "    <tr style=\"text-align: right;\">\n",
       "      <th></th>\n",
       "      <th>ID</th>\n",
       "      <th>ID_LEAD</th>\n",
       "      <th>ID_DEP</th>\n",
       "      <th>NAME</th>\n",
       "      <th>SALARY</th>\n",
       "    </tr>\n",
       "  </thead>\n",
       "  <tbody>\n",
       "    <tr>\n",
       "      <th>0</th>\n",
       "      <td>1</td>\n",
       "      <td>2</td>\n",
       "      <td>1</td>\n",
       "      <td>ИВАН</td>\n",
       "      <td>94000.00</td>\n",
       "    </tr>\n",
       "    <tr>\n",
       "      <th>1</th>\n",
       "      <td>2</td>\n",
       "      <td>2</td>\n",
       "      <td>1</td>\n",
       "      <td>МАКСИМ</td>\n",
       "      <td>138000.33</td>\n",
       "    </tr>\n",
       "    <tr>\n",
       "      <th>2</th>\n",
       "      <td>3</td>\n",
       "      <td>3</td>\n",
       "      <td>3</td>\n",
       "      <td>АЛЕКСАНДРА</td>\n",
       "      <td>192003.22</td>\n",
       "    </tr>\n",
       "    <tr>\n",
       "      <th>3</th>\n",
       "      <td>4</td>\n",
       "      <td>4</td>\n",
       "      <td>4</td>\n",
       "      <td>МАРИЯ</td>\n",
       "      <td>57800.00</td>\n",
       "    </tr>\n",
       "    <tr>\n",
       "      <th>4</th>\n",
       "      <td>5</td>\n",
       "      <td>2</td>\n",
       "      <td>1</td>\n",
       "      <td>АЛЕНА</td>\n",
       "      <td>200000.00</td>\n",
       "    </tr>\n",
       "  </tbody>\n",
       "</table>\n",
       "</div>"
      ],
      "text/plain": [
       "   ID  ID_LEAD  ID_DEP        NAME     SALARY\n",
       "0   1        2       1        ИВАН   94000.00\n",
       "1   2        2       1      МАКСИМ  138000.33\n",
       "2   3        3       3  АЛЕКСАНДРА  192003.22\n",
       "3   4        4       4       МАРИЯ   57800.00\n",
       "4   5        2       1       АЛЕНА  200000.00"
      ]
     },
     "execution_count": 2,
     "metadata": {},
     "output_type": "execute_result"
    }
   ],
   "source": [
    "# Пример таблиц\n",
    "STAFF = pd.DataFrame({\n",
    "    'ID':[1,2,3,4, 5], \n",
    "    'ID_LEAD': [2,2,3,4,2],\n",
    "    'ID_DEP': [1,1,3,4,1],\n",
    "    'NAME': ['ИВАН', 'МАКСИМ', 'АЛЕКСАНДРА', 'МАРИЯ', 'АЛЕНА'],\n",
    "    'SALARY': [94000.00, 138000.33, 192003.22, 57800, 200000],\n",
    "})\n",
    "STAFF"
   ]
  },
  {
   "cell_type": "markdown",
   "metadata": {},
   "source": [
    "* Выведите наименование отдела с наибольшим числом сотрудников"
   ]
  },
  {
   "cell_type": "code",
   "execution_count": null,
   "metadata": {},
   "outputs": [],
   "source": [
    "with d as\n",
    "  (select b.name, count(b.name) cnt from STAFF a\n",
    "    left join DEPARTMENTS b on a.ID_DEP = b.id\n",
    "   group by b.name)\n",
    "select NAME from d\n",
    "where cnt = (select max(cnt) from d)"
   ]
  },
  {
   "cell_type": "markdown",
   "metadata": {},
   "source": [
    "* Выведите ID сотрудников с зарплатой выше, чем у руководителя"
   ]
  },
  {
   "cell_type": "code",
   "execution_count": null,
   "metadata": {},
   "outputs": [],
   "source": [
    "select id from STAFF a\n",
    "    left join (select id d_id, id_lead d_id_lead, salary boss_salary from STAFF\n",
    "        where id = id_lead) on id_lead = d_id_lead\n",
    "where salary > boss_salary    "
   ]
  },
  {
   "cell_type": "markdown",
   "metadata": {},
   "source": [
    "- Выведите ID отделов, число сотрудников в которых меньше 3 человек"
   ]
  },
  {
   "cell_type": "code",
   "execution_count": null,
   "metadata": {},
   "outputs": [],
   "source": [
    "select id_dep from \n",
    "    (select id_dep, count(id_dep) cnt from STAFF\n",
    "    group by id_dep)\n",
    "where cnt < 3"
   ]
  },
  {
   "cell_type": "markdown",
   "metadata": {},
   "source": [
    "<a id='link_3'></a><div style=\"text-align: right\"> <a href='#link_0'>Содержание</a> </div> "
   ]
  },
  {
   "cell_type": "markdown",
   "metadata": {},
   "source": [
    "### Задача #3 - Python ML\n",
    "Постройте модель по оценке вероятности оттока на основе данных ***telecom_churn.csv*** (задача классификации - 2 класса). Оцените качество полученной модели."
   ]
  },
  {
   "cell_type": "code",
   "execution_count": 3,
   "metadata": {},
   "outputs": [],
   "source": [
    "import pandas as pd\n",
    "df = pd.read_csv('telecom_churn.csv', sep = ',')"
   ]
  },
  {
   "cell_type": "code",
   "execution_count": 4,
   "metadata": {},
   "outputs": [
    {
     "data": {
      "text/html": [
       "<div>\n",
       "<style scoped>\n",
       "    .dataframe tbody tr th:only-of-type {\n",
       "        vertical-align: middle;\n",
       "    }\n",
       "\n",
       "    .dataframe tbody tr th {\n",
       "        vertical-align: top;\n",
       "    }\n",
       "\n",
       "    .dataframe thead th {\n",
       "        text-align: right;\n",
       "    }\n",
       "</style>\n",
       "<table border=\"1\" class=\"dataframe\">\n",
       "  <thead>\n",
       "    <tr style=\"text-align: right;\">\n",
       "      <th></th>\n",
       "      <th>state</th>\n",
       "      <th>account length</th>\n",
       "      <th>area code</th>\n",
       "      <th>phone number</th>\n",
       "      <th>international plan</th>\n",
       "      <th>voice mail plan</th>\n",
       "      <th>number vmail messages</th>\n",
       "      <th>total day minutes</th>\n",
       "      <th>total day calls</th>\n",
       "      <th>total day charge</th>\n",
       "      <th>...</th>\n",
       "      <th>total eve calls</th>\n",
       "      <th>total eve charge</th>\n",
       "      <th>total night minutes</th>\n",
       "      <th>total night calls</th>\n",
       "      <th>total night charge</th>\n",
       "      <th>total intl minutes</th>\n",
       "      <th>total intl calls</th>\n",
       "      <th>total intl charge</th>\n",
       "      <th>customer service calls</th>\n",
       "      <th>churn</th>\n",
       "    </tr>\n",
       "  </thead>\n",
       "  <tbody>\n",
       "    <tr>\n",
       "      <th>0</th>\n",
       "      <td>KS</td>\n",
       "      <td>128</td>\n",
       "      <td>415</td>\n",
       "      <td>382-4657</td>\n",
       "      <td>no</td>\n",
       "      <td>yes</td>\n",
       "      <td>25</td>\n",
       "      <td>265.1</td>\n",
       "      <td>110</td>\n",
       "      <td>45.07</td>\n",
       "      <td>...</td>\n",
       "      <td>99</td>\n",
       "      <td>16.78</td>\n",
       "      <td>244.7</td>\n",
       "      <td>91</td>\n",
       "      <td>11.01</td>\n",
       "      <td>10.0</td>\n",
       "      <td>3</td>\n",
       "      <td>2.70</td>\n",
       "      <td>1</td>\n",
       "      <td>False</td>\n",
       "    </tr>\n",
       "    <tr>\n",
       "      <th>1</th>\n",
       "      <td>OH</td>\n",
       "      <td>107</td>\n",
       "      <td>415</td>\n",
       "      <td>371-7191</td>\n",
       "      <td>no</td>\n",
       "      <td>yes</td>\n",
       "      <td>26</td>\n",
       "      <td>161.6</td>\n",
       "      <td>123</td>\n",
       "      <td>27.47</td>\n",
       "      <td>...</td>\n",
       "      <td>103</td>\n",
       "      <td>16.62</td>\n",
       "      <td>254.4</td>\n",
       "      <td>103</td>\n",
       "      <td>11.45</td>\n",
       "      <td>13.7</td>\n",
       "      <td>3</td>\n",
       "      <td>3.70</td>\n",
       "      <td>1</td>\n",
       "      <td>False</td>\n",
       "    </tr>\n",
       "    <tr>\n",
       "      <th>2</th>\n",
       "      <td>NJ</td>\n",
       "      <td>137</td>\n",
       "      <td>415</td>\n",
       "      <td>358-1921</td>\n",
       "      <td>no</td>\n",
       "      <td>no</td>\n",
       "      <td>0</td>\n",
       "      <td>243.4</td>\n",
       "      <td>114</td>\n",
       "      <td>41.38</td>\n",
       "      <td>...</td>\n",
       "      <td>110</td>\n",
       "      <td>10.30</td>\n",
       "      <td>162.6</td>\n",
       "      <td>104</td>\n",
       "      <td>7.32</td>\n",
       "      <td>12.2</td>\n",
       "      <td>5</td>\n",
       "      <td>3.29</td>\n",
       "      <td>0</td>\n",
       "      <td>False</td>\n",
       "    </tr>\n",
       "    <tr>\n",
       "      <th>3</th>\n",
       "      <td>OH</td>\n",
       "      <td>84</td>\n",
       "      <td>408</td>\n",
       "      <td>375-9999</td>\n",
       "      <td>yes</td>\n",
       "      <td>no</td>\n",
       "      <td>0</td>\n",
       "      <td>299.4</td>\n",
       "      <td>71</td>\n",
       "      <td>50.90</td>\n",
       "      <td>...</td>\n",
       "      <td>88</td>\n",
       "      <td>5.26</td>\n",
       "      <td>196.9</td>\n",
       "      <td>89</td>\n",
       "      <td>8.86</td>\n",
       "      <td>6.6</td>\n",
       "      <td>7</td>\n",
       "      <td>1.78</td>\n",
       "      <td>2</td>\n",
       "      <td>False</td>\n",
       "    </tr>\n",
       "    <tr>\n",
       "      <th>4</th>\n",
       "      <td>OK</td>\n",
       "      <td>75</td>\n",
       "      <td>415</td>\n",
       "      <td>330-6626</td>\n",
       "      <td>yes</td>\n",
       "      <td>no</td>\n",
       "      <td>0</td>\n",
       "      <td>166.7</td>\n",
       "      <td>113</td>\n",
       "      <td>28.34</td>\n",
       "      <td>...</td>\n",
       "      <td>122</td>\n",
       "      <td>12.61</td>\n",
       "      <td>186.9</td>\n",
       "      <td>121</td>\n",
       "      <td>8.41</td>\n",
       "      <td>10.1</td>\n",
       "      <td>3</td>\n",
       "      <td>2.73</td>\n",
       "      <td>3</td>\n",
       "      <td>False</td>\n",
       "    </tr>\n",
       "  </tbody>\n",
       "</table>\n",
       "<p>5 rows × 21 columns</p>\n",
       "</div>"
      ],
      "text/plain": [
       "  state  account length  area code phone number international plan  \\\n",
       "0    KS             128        415     382-4657                 no   \n",
       "1    OH             107        415     371-7191                 no   \n",
       "2    NJ             137        415     358-1921                 no   \n",
       "3    OH              84        408     375-9999                yes   \n",
       "4    OK              75        415     330-6626                yes   \n",
       "\n",
       "  voice mail plan  number vmail messages  total day minutes  total day calls  \\\n",
       "0             yes                     25              265.1              110   \n",
       "1             yes                     26              161.6              123   \n",
       "2              no                      0              243.4              114   \n",
       "3              no                      0              299.4               71   \n",
       "4              no                      0              166.7              113   \n",
       "\n",
       "   total day charge  ...  total eve calls  total eve charge  \\\n",
       "0             45.07  ...               99             16.78   \n",
       "1             27.47  ...              103             16.62   \n",
       "2             41.38  ...              110             10.30   \n",
       "3             50.90  ...               88              5.26   \n",
       "4             28.34  ...              122             12.61   \n",
       "\n",
       "   total night minutes  total night calls  total night charge  \\\n",
       "0                244.7                 91               11.01   \n",
       "1                254.4                103               11.45   \n",
       "2                162.6                104                7.32   \n",
       "3                196.9                 89                8.86   \n",
       "4                186.9                121                8.41   \n",
       "\n",
       "   total intl minutes  total intl calls  total intl charge  \\\n",
       "0                10.0                 3               2.70   \n",
       "1                13.7                 3               3.70   \n",
       "2                12.2                 5               3.29   \n",
       "3                 6.6                 7               1.78   \n",
       "4                10.1                 3               2.73   \n",
       "\n",
       "   customer service calls  churn  \n",
       "0                       1  False  \n",
       "1                       1  False  \n",
       "2                       0  False  \n",
       "3                       2  False  \n",
       "4                       3  False  \n",
       "\n",
       "[5 rows x 21 columns]"
      ]
     },
     "execution_count": 4,
     "metadata": {},
     "output_type": "execute_result"
    }
   ],
   "source": [
    "df.head()"
   ]
  },
  {
   "cell_type": "code",
   "execution_count": 5,
   "metadata": {},
   "outputs": [
    {
     "data": {
      "text/plain": [
       "False    2850\n",
       "True      483\n",
       "Name: churn, dtype: int64"
      ]
     },
     "execution_count": 5,
     "metadata": {},
     "output_type": "execute_result"
    }
   ],
   "source": [
    "df['churn'].value_counts()"
   ]
  },
  {
   "cell_type": "code",
   "execution_count": 6,
   "metadata": {},
   "outputs": [],
   "source": [
    "from sklearn import preprocessing\n",
    "le = preprocessing.LabelEncoder()\n",
    "\n",
    "df['international plan'] = pd.factorize(df['international plan'])[0]\n",
    "df['voice mail plan'] = pd.factorize(df['voice mail plan'])[0]\n",
    "df['churn'] = df['churn'].astype('int')\n",
    "le.fit(df['state'])\n",
    "states = le.transform(df['state'])\n",
    "y = df['churn']\n",
    "df['state'] = states\n",
    "df.drop(['churn'], axis=1, inplace=True)"
   ]
  },
  {
   "cell_type": "code",
   "execution_count": 7,
   "metadata": {},
   "outputs": [],
   "source": [
    "df['phone number pref'] = [x.split('-')[0] for x in df['phone number']]\n",
    "df['phone number numb'] = [x.split('-')[1] for x in df['phone number']]\n",
    "df.drop(['phone number'], axis=1, inplace=True)"
   ]
  },
  {
   "cell_type": "code",
   "execution_count": 44,
   "metadata": {},
   "outputs": [
    {
     "name": "stdout",
     "output_type": "stream",
     "text": [
      "X_holdout 0.8430732002419843\n",
      "X_holdout 0.8412381528533978\n"
     ]
    }
   ],
   "source": [
    "from sklearn.model_selection import train_test_split, StratifiedKFold\n",
    "from sklearn.neighbors import KNeighborsClassifier, KNeighborsRegressor\n",
    "from sklearn.tree import DecisionTreeClassifier, DecisionTreeRegressor\n",
    "from sklearn.metrics import accuracy_score, roc_auc_score\n",
    "\n",
    "#normalized_arr = preprocessing.normalize(df.values, axis=0)\n",
    "\n",
    "scaler = preprocessing.MinMaxScaler()\n",
    "names = df.columns\n",
    "d = scaler.fit_transform(df)\n",
    "normalized_arr = pd.DataFrame(d, columns=names)\n",
    "\n",
    "X_train, X_holdout, y_train, y_holdout = train_test_split(normalized_arr, y, test_size=0.3, random_state=17, stratify = y)\n",
    "\n",
    "tree = DecisionTreeRegressor(max_depth=7, random_state=17)\n",
    "knn = KNeighborsRegressor(n_neighbors=100)\n",
    "\n",
    "tree.fit(X_train, y_train)\n",
    "knn.fit(X_train, y_train)"
   ]
  },
  {
   "cell_type": "code",
   "execution_count": 51,
   "metadata": {},
   "outputs": [
    {
     "name": "stdout",
     "output_type": "stream",
     "text": [
      "DecisionTreeRegressor X_holdout 0.8430732002419843\n",
      "KNeighborsRegressor X_holdout 0.8412381528533978\n"
     ]
    }
   ],
   "source": [
    "print('DecisionTreeRegressor X_holdout', roc_auc_score(y_holdout, tree.predict(X_holdout)))\n",
    "print('KNeighborsRegressor X_holdout', roc_auc_score(y_holdout, knn.predict(X_holdout)))"
   ]
  },
  {
   "cell_type": "code",
   "execution_count": 52,
   "metadata": {},
   "outputs": [
    {
     "name": "stdout",
     "output_type": "stream",
     "text": [
      "Fitting 5 folds for each of 150 candidates, totalling 750 fits\n",
      "Tree_GridSearch X_holdout 0.8657148618673118\n"
     ]
    }
   ],
   "source": [
    "from sklearn.model_selection import GridSearchCV, cross_val_score\n",
    "\n",
    "tree_params = {'max_depth': range(1,11), 'max_features': range(4,19)}\n",
    "tree_grid = GridSearchCV(tree, tree_params,cv=5, n_jobs=-1,verbose=True)\n",
    "tree_grid.fit(X_train, y_train)\n",
    "\n",
    "#print(tree_grid.best_params_,tree_grid.best_score_)\n",
    "print('Tree_GridSearch X_holdout', roc_auc_score(y_holdout, tree_grid.predict(X_holdout)))"
   ]
  },
  {
   "cell_type": "code",
   "execution_count": 53,
   "metadata": {},
   "outputs": [
    {
     "name": "stdout",
     "output_type": "stream",
     "text": [
      "Fitting 5 folds for each of 99 candidates, totalling 495 fits\n",
      "KNN_GridSearch X_holdout 0.841181689856826\n"
     ]
    }
   ],
   "source": [
    "from sklearn.pipeline import Pipeline\n",
    "from sklearn.preprocessing import StandardScaler\n",
    "knn_pipe = Pipeline([('scaler', StandardScaler()), ('knn', KNeighborsRegressor(n_jobs=-1))])\n",
    "knn_params = {'knn__n_neighbors': range(1, 100)}\n",
    "knn_grid = GridSearchCV(knn_pipe, knn_params,cv=5, n_jobs=-1,verbose=True)\n",
    "knn_grid.fit(X_train, y_train)\n",
    "\n",
    "#print(knn_grid.best_params_, knn_grid.best_score_)\n",
    "print('KNN_GridSearch X_holdout', roc_auc_score(y_holdout, knn_grid.predict(X_holdout)))"
   ]
  },
  {
   "cell_type": "code",
   "execution_count": 49,
   "metadata": {},
   "outputs": [
    {
     "name": "stdout",
     "output_type": "stream",
     "text": [
      "Fitting 5 folds for each of 150 candidates, totalling 750 fits\n",
      "RandomForestRegressor X_holdout 0.8958903004638032\n"
     ]
    }
   ],
   "source": [
    "from sklearn.ensemble import RandomForestClassifier, RandomForestRegressor\n",
    "import numpy as np\n",
    "\n",
    "forest = RandomForestRegressor(n_estimators=100, n_jobs=-1, random_state=17)\n",
    "#print(np.mean(cross_val_score(forest, X_train, y_train, cv=5)))\n",
    "\n",
    "forest_params = {'max_depth': range(1,11),'max_features': range(4,19)}\n",
    "forest_grid = GridSearchCV(forest, forest_params,cv=5, n_jobs=-1,verbose=True)\n",
    "forest_grid.fit(X_train, y_train)\n",
    "\n",
    "#print(forest_grid.best_params_, forest_grid.best_score_)\n",
    "print('RandomForestRegressor X_holdout', roc_auc_score(y_holdout, forest_grid.predict(X_holdout)))"
   ]
  },
  {
   "cell_type": "code",
   "execution_count": 50,
   "metadata": {},
   "outputs": [
    {
     "name": "stdout",
     "output_type": "stream",
     "text": [
      "CatBoostClassifier X_holdout 0.902802984472676\n"
     ]
    }
   ],
   "source": [
    "from catboost import Pool, CatBoostClassifier\n",
    "from sklearn.metrics import roc_auc_score\n",
    "\n",
    "random_state = 17\n",
    "\n",
    "def perform_model(X_train, y_train,X_holdout, y_holdout):    \n",
    "    model = CatBoostClassifier(\n",
    "        random_seed = random_state,\n",
    "        loss_function='Logloss', eval_metric='AUC', learning_rate=0.05,\n",
    "        iterations= 3000, use_best_model = True, depth=6, border_count = 33000)   \n",
    "    model.fit(\n",
    "        X_train, y_train,\n",
    "        #cat_features = categorical_indices,\n",
    "        eval_set=(X_holdout, y_holdout),\n",
    "        verbose=0)   \n",
    "    return model\n",
    "    \n",
    "model=perform_model(X_train, y_train, X_holdout, y_holdout)\n",
    "\n",
    "print('CatBoostClassifier X_holdout', roc_auc_score(y_holdout, model.predict_proba(X_holdout)[:,1]))"
   ]
  },
  {
   "cell_type": "code",
   "execution_count": null,
   "metadata": {},
   "outputs": [],
   "source": [
    "# Лучший результат показал CatBoostClassifier"
   ]
  },
  {
   "cell_type": "markdown",
   "metadata": {},
   "source": [
    "<div style=\"text-align: right\"> <a href='#link_0'>Содержание</a> </div> "
   ]
  }
 ],
 "metadata": {
  "kernelspec": {
   "display_name": "Python 3",
   "language": "python",
   "name": "python3"
  },
  "language_info": {
   "codemirror_mode": {
    "name": "ipython",
    "version": 3
   },
   "file_extension": ".py",
   "mimetype": "text/x-python",
   "name": "python",
   "nbconvert_exporter": "python",
   "pygments_lexer": "ipython3",
   "version": "3.6.13"
  }
 },
 "nbformat": 4,
 "nbformat_minor": 4
}
